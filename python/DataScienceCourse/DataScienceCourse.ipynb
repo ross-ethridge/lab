{
 "cells": [
  {
   "metadata": {
    "ExecuteTime": {
     "end_time": "2025-08-23T21:51:41.363380Z",
     "start_time": "2025-08-23T21:51:41.360220Z"
    }
   },
   "cell_type": "code",
   "source": [
    "import logging\n",
    "logging.basicConfig(level=logging.INFO, format='%(asctime)s - %(name)s - %(levelname)s - %(message)s')\n",
    "logger = logging.getLogger()\n",
    "\n",
    "logger.info(\"This is info\")\n",
    "logger.warning(\"This is warning\")\n",
    "logger.error(\"This is error\")"
   ],
   "id": "10b7db9e850a38cb",
   "outputs": [
    {
     "name": "stderr",
     "output_type": "stream",
     "text": [
      "2025-08-23 16:51:41,361 - root - INFO - This is info\n",
      "2025-08-23 16:51:41,361 - root - WARNING - This is warning\n",
      "2025-08-23 16:51:41,362 - root - ERROR - This is error\n"
     ]
    }
   ],
   "execution_count": 3
  },
  {
   "metadata": {
    "ExecuteTime": {
     "end_time": "2025-08-23T21:49:20.745718Z",
     "start_time": "2025-08-23T21:49:20.744237Z"
    }
   },
   "cell_type": "code",
   "source": "",
   "id": "7d35a19fb9981fed",
   "outputs": [],
   "execution_count": null
  },
  {
   "metadata": {},
   "cell_type": "code",
   "outputs": [],
   "execution_count": null,
   "source": "",
   "id": "abd73211d3f620f"
  }
 ],
 "metadata": {
  "kernelspec": {
   "display_name": "Python 3 (ipykernel)",
   "language": "python",
   "name": "python3"
  },
  "language_info": {
   "codemirror_mode": {
    "name": "ipython",
    "version": 3
   },
   "file_extension": ".py",
   "mimetype": "text/x-python",
   "name": "python",
   "nbconvert_exporter": "python",
   "pygments_lexer": "ipython3",
   "version": "3.12.3"
  }
 },
 "nbformat": 4,
 "nbformat_minor": 5
}
