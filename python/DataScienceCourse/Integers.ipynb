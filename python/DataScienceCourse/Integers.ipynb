{
 "cells": [
  {
   "metadata": {
    "ExecuteTime": {
     "end_time": "2025-08-23T23:19:38.763632Z",
     "start_time": "2025-08-23T23:19:38.761370Z"
    }
   },
   "cell_type": "code",
   "source": [
    "import logging\n",
    "logging.basicConfig(level=logging.INFO, format='%(asctime)s - %(name)s - %(levelname)s - %(message)s')\n",
    "logger = logging.getLogger()"
   ],
   "id": "10b7db9e850a38cb",
   "outputs": [],
   "execution_count": 51
  },
  {
   "metadata": {
    "ExecuteTime": {
     "end_time": "2025-08-23T23:19:36.121763Z",
     "start_time": "2025-08-23T23:19:36.118522Z"
    }
   },
   "cell_type": "code",
   "source": [
    "# Integers keep track of loops\n",
    "for x in range(1,6):\n",
    "    logger.info(\"x is: %s\", x)"
   ],
   "id": "15a6101854fb6ed8",
   "outputs": [
    {
     "name": "stderr",
     "output_type": "stream",
     "text": [
      "2025-08-23 18:19:36,119 - root - INFO - x is: 1\n",
      "2025-08-23 18:19:36,119 - root - INFO - x is: 2\n",
      "2025-08-23 18:19:36,120 - root - INFO - x is: 3\n",
      "2025-08-23 18:19:36,120 - root - INFO - x is: 4\n",
      "2025-08-23 18:19:36,120 - root - INFO - x is: 5\n"
     ]
    }
   ],
   "execution_count": 50
  },
  {
   "metadata": {
    "ExecuteTime": {
     "end_time": "2025-08-23T23:19:32.618876Z",
     "start_time": "2025-08-23T23:19:32.616202Z"
    }
   },
   "cell_type": "code",
   "source": [
    "# Create more integers\n",
    "whole_num = 5\n",
    "logger.info(\"whole_num is: %s\", whole_num)\n",
    "\n",
    "# Type checking\n",
    "logger.info(\"whole_num is data type of: %s\", type(whole_num))"
   ],
   "id": "1d8b0d5b623273ba",
   "outputs": [
    {
     "name": "stderr",
     "output_type": "stream",
     "text": [
      "2025-08-23 18:19:32,617 - root - INFO - whole_num is: 5\n",
      "2025-08-23 18:19:32,617 - root - INFO - whole_num is data type of: <class 'int'>\n"
     ]
    }
   ],
   "execution_count": 49
  },
  {
   "metadata": {
    "ExecuteTime": {
     "end_time": "2025-08-23T23:19:29.743220Z",
     "start_time": "2025-08-23T23:19:29.740485Z"
    }
   },
   "cell_type": "code",
   "source": [
    "num_two = 3\n",
    "logger.info(\"num_two is: %s\", num_two)\n",
    "\n",
    "# Type checking\n",
    "logger.info(\"num_two is data type of: %s\", type(num_two))"
   ],
   "id": "8e1baad133448243",
   "outputs": [
    {
     "name": "stderr",
     "output_type": "stream",
     "text": [
      "2025-08-23 18:19:29,741 - root - INFO - num_two is: 3\n",
      "2025-08-23 18:19:29,742 - root - INFO - num_two is data type of: <class 'int'>\n"
     ]
    }
   ],
   "execution_count": 48
  },
  {
   "metadata": {
    "ExecuteTime": {
     "end_time": "2025-08-23T23:19:26.746432Z",
     "start_time": "2025-08-23T23:19:26.743722Z"
    }
   },
   "cell_type": "code",
   "source": [
    "num_three = num_two + whole_num\n",
    "logger.info(\"num_three is: %s\", num_three)\n",
    "\n",
    "# Type checking\n",
    "logger.info(\"num_four is data type of: %s\", type(num_three))"
   ],
   "id": "1679ff066997783b",
   "outputs": [
    {
     "name": "stderr",
     "output_type": "stream",
     "text": [
      "2025-08-23 18:19:26,744 - root - INFO - num_three is: 8\n",
      "2025-08-23 18:19:26,745 - root - INFO - num_four is data type of: <class 'int'>\n"
     ]
    }
   ],
   "execution_count": 47
  },
  {
   "metadata": {
    "ExecuteTime": {
     "end_time": "2025-08-23T23:19:23.284961Z",
     "start_time": "2025-08-23T23:19:23.282362Z"
    }
   },
   "cell_type": "code",
   "source": [
    "# Subtraction\n",
    "num_four = whole_num - num_two\n",
    "logger.info(\"num_four is: %s\", num_four)\n",
    "\n",
    "# Type checking\n",
    "logger.info(\"num_four is data type of: %s\", type(num_four))"
   ],
   "id": "e4bbd2b52177b75b",
   "outputs": [
    {
     "name": "stderr",
     "output_type": "stream",
     "text": [
      "2025-08-23 18:19:23,283 - root - INFO - num_four is: 2\n",
      "2025-08-23 18:19:23,283 - root - INFO - num_four is data type of: <class 'int'>\n"
     ]
    }
   ],
   "execution_count": 46
  },
  {
   "metadata": {
    "ExecuteTime": {
     "end_time": "2025-08-23T23:19:20.303553Z",
     "start_time": "2025-08-23T23:19:20.300733Z"
    }
   },
   "cell_type": "code",
   "source": [
    "#  Multiply\n",
    "num_five = num_four * num_three\n",
    "logger.info(\"num_five is: %s\", num_five)\n",
    "\n",
    "# Type checking\n",
    "logger.info(\"num_five is data type of: %s\", type(num_five))"
   ],
   "id": "67fe56766420c99a",
   "outputs": [
    {
     "name": "stderr",
     "output_type": "stream",
     "text": [
      "2025-08-23 18:19:20,301 - root - INFO - num_five is: 16\n",
      "2025-08-23 18:19:20,302 - root - INFO - num_five is data type of: <class 'int'>\n"
     ]
    }
   ],
   "execution_count": 45
  },
  {
   "metadata": {
    "ExecuteTime": {
     "end_time": "2025-08-23T23:19:17.264708Z",
     "start_time": "2025-08-23T23:19:17.261771Z"
    }
   },
   "cell_type": "code",
   "source": [
    "# Divide; two integers will return float.\n",
    "num_six = num_five/whole_num\n",
    "logger.info(\"num_six is: %s\", num_six)\n",
    "\n",
    "# Type checking\n",
    "logger.info(\"num_six is data type of: %s\", type(num_six))"
   ],
   "id": "c7921eae685dfbd1",
   "outputs": [
    {
     "name": "stderr",
     "output_type": "stream",
     "text": [
      "2025-08-23 18:19:17,262 - root - INFO - num_six is: 3.2\n",
      "2025-08-23 18:19:17,263 - root - INFO - num_six is data type of: <class 'float'>\n"
     ]
    }
   ],
   "execution_count": 44
  },
  {
   "metadata": {
    "ExecuteTime": {
     "end_time": "2025-08-23T23:19:14.378400Z",
     "start_time": "2025-08-23T23:19:14.375491Z"
    }
   },
   "cell_type": "code",
   "source": [
    "# Floor Division\n",
    "num_seven = num_five//whole_num\n",
    "logger.info(\"num_seven is: %s\", num_seven)\n",
    "\n",
    "# Type checking\n",
    "logger.info(\"num_seven is data type of: %s\", type(num_seven))"
   ],
   "id": "ca81b677323b55a0",
   "outputs": [
    {
     "name": "stderr",
     "output_type": "stream",
     "text": [
      "2025-08-23 18:19:14,376 - root - INFO - num_seven is: 3\n",
      "2025-08-23 18:19:14,377 - root - INFO - num_seven is data type of: <class 'int'>\n"
     ]
    }
   ],
   "execution_count": 43
  },
  {
   "metadata": {
    "ExecuteTime": {
     "end_time": "2025-08-23T23:19:10.207529Z",
     "start_time": "2025-08-23T23:19:10.204714Z"
    }
   },
   "cell_type": "code",
   "source": [
    "# Other data types can be cast as integers IF the data types value is suitable.\n",
    "num_eight = int(5.5)\n",
    "logger.info(\"num_eight is: %s\", num_eight)\n",
    "\n",
    "# Type checking\n",
    "logger.info(\"num_eight is data type of: %s\", type(num_eight))"
   ],
   "id": "2f0f9996239b6875",
   "outputs": [
    {
     "name": "stderr",
     "output_type": "stream",
     "text": [
      "2025-08-23 18:19:10,205 - root - INFO - num_eight is: 5\n",
      "2025-08-23 18:19:10,206 - root - INFO - num_eight is data type of: <class 'int'>\n"
     ]
    }
   ],
   "execution_count": 42
  },
  {
   "metadata": {
    "ExecuteTime": {
     "end_time": "2025-08-23T23:19:07.576913Z",
     "start_time": "2025-08-23T23:19:07.574238Z"
    }
   },
   "cell_type": "code",
   "source": [
    "num_nine = int(\"3\")\n",
    "logger.info(\"num_nine is: %s\", num_nine)\n",
    "\n",
    "# Type checking\n",
    "logger.info(\"num_nine is data type of: %s\", type(num_nine))"
   ],
   "id": "571cee572248489e",
   "outputs": [
    {
     "name": "stderr",
     "output_type": "stream",
     "text": [
      "2025-08-23 18:19:07,575 - root - INFO - num_nine is: 3\n",
      "2025-08-23 18:19:07,575 - root - INFO - num_nine is data type of: <class 'int'>\n"
     ]
    }
   ],
   "execution_count": 41
  },
  {
   "metadata": {},
   "cell_type": "code",
   "outputs": [],
   "execution_count": null,
   "source": "",
   "id": "eee5ab1b7eb38842"
  }
 ],
 "metadata": {
  "kernelspec": {
   "display_name": "Python 3 (ipykernel)",
   "language": "python",
   "name": "python3"
  },
  "language_info": {
   "codemirror_mode": {
    "name": "ipython",
    "version": 3
   },
   "file_extension": ".py",
   "mimetype": "text/x-python",
   "name": "python",
   "nbconvert_exporter": "python",
   "pygments_lexer": "ipython3",
   "version": "3.12.3"
  }
 },
 "nbformat": 4,
 "nbformat_minor": 5
}
