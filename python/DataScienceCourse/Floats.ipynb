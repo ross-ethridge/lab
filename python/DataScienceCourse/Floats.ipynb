{
 "cells": [
  {
   "cell_type": "code",
   "id": "initial_id",
   "metadata": {
    "collapsed": true,
    "ExecuteTime": {
     "end_time": "2025-08-23T23:29:13.358395Z",
     "start_time": "2025-08-23T23:29:13.355972Z"
    }
   },
   "source": [
    "# Python float\n",
    "real_num = 5.3\n",
    "print(\"real_num is:\", real_num)\n",
    "print(\"real_num is of data type:\", type(real_num))\n"
   ],
   "outputs": [
    {
     "name": "stdout",
     "output_type": "stream",
     "text": [
      "5.3\n",
      "real_num is of data type: <class 'float'>\n"
     ]
    }
   ],
   "execution_count": 1
  },
  {
   "metadata": {
    "ExecuteTime": {
     "end_time": "2025-08-23T23:30:50.390904Z",
     "start_time": "2025-08-23T23:30:50.388484Z"
    }
   },
   "cell_type": "code",
   "source": [
    "# Create new flotas by combining floats\n",
    "fp_two = 3.2\n",
    "print(fp_two)\n",
    "print(\"fp_two is of data type:\", type(fp_two))"
   ],
   "id": "a863367eacb482c8",
   "outputs": [
    {
     "name": "stdout",
     "output_type": "stream",
     "text": [
      "3.2\n",
      "fp_two is of data type: <class 'float'>\n"
     ]
    }
   ],
   "execution_count": 2
  },
  {
   "metadata": {
    "ExecuteTime": {
     "end_time": "2025-08-23T23:33:24.755877Z",
     "start_time": "2025-08-23T23:33:24.753669Z"
    }
   },
   "cell_type": "code",
   "source": [
    "fp_three = real_num + fp_two\n",
    "print(fp_three)\n",
    "print(\"fp_three is of data type:\", type(fp_three))"
   ],
   "id": "555ff8b2adc7cd6",
   "outputs": [
    {
     "name": "stdout",
     "output_type": "stream",
     "text": [
      "8.5\n",
      "fp_three is of data type: <class 'float'>\n"
     ]
    }
   ],
   "execution_count": 4
  },
  {
   "metadata": {
    "ExecuteTime": {
     "end_time": "2025-08-23T23:33:49.260463Z",
     "start_time": "2025-08-23T23:33:49.257876Z"
    }
   },
   "cell_type": "code",
   "source": [
    "fp_four = real_num -fp_two\n",
    "print(fp_four)\n",
    "print(\"fp_four is of data type:\", type(fp_four))"
   ],
   "id": "e7abe86f4632a8c0",
   "outputs": [
    {
     "name": "stdout",
     "output_type": "stream",
     "text": [
      "2.0999999999999996\n",
      "fp_four is of data type: <class 'float'>\n"
     ]
    }
   ],
   "execution_count": 5
  },
  {
   "metadata": {
    "ExecuteTime": {
     "end_time": "2025-08-23T23:36:21.726942Z",
     "start_time": "2025-08-23T23:36:21.724925Z"
    }
   },
   "cell_type": "code",
   "source": [
    "# Rounding floats\n",
    "print(\"Round fp_four to 1 decimal place:\")\n",
    "print(round(float(fp_four), 1))"
   ],
   "id": "43915ae1502e52a2",
   "outputs": [
    {
     "name": "stdout",
     "output_type": "stream",
     "text": [
      "Round fp_four to 1 decimal place:\n",
      "2.1\n"
     ]
    }
   ],
   "execution_count": 8
  },
  {
   "metadata": {
    "ExecuteTime": {
     "end_time": "2025-08-23T23:41:54.951772Z",
     "start_time": "2025-08-23T23:41:54.949501Z"
    }
   },
   "cell_type": "code",
   "source": [
    "# Multiplication\n",
    "fp_four_b = round(fp_four,1)\n",
    "print(\"fp_four_b is:\", fp_four_b)\n",
    "\n",
    "fp_five = fp_four * fp_two\n",
    "print(\"fp_five is:\", fp_five)\n",
    "\n",
    "fp_five_b = fp_four_b * fp_two\n",
    "print(\"fp_five_b is:\", fp_five_b)"
   ],
   "id": "2d3c9c284e0352d7",
   "outputs": [
    {
     "name": "stdout",
     "output_type": "stream",
     "text": [
      "fp_four_b is: 2.1\n",
      "fp_five is: 6.719999999999999\n",
      "fp_five_b is: 6.720000000000001\n"
     ]
    }
   ],
   "execution_count": 18
  },
  {
   "metadata": {
    "ExecuteTime": {
     "end_time": "2025-08-23T23:45:35.633520Z",
     "start_time": "2025-08-23T23:45:35.631360Z"
    }
   },
   "cell_type": "code",
   "source": [
    "print(\"Both are the same when properly rounded\")\n",
    "print(\"fp_five_b rounded is:\", round(fp_five_b, 1))\n",
    "print(\"fp_five rounded is:\", round(fp_five, 1))"
   ],
   "id": "8f95d36e3cb3f1b7",
   "outputs": [
    {
     "name": "stdout",
     "output_type": "stream",
     "text": [
      "Both are the same when properly rounded\n",
      "fp_five_b rounded is: 6.7\n",
      "fp_five rounded is: 6.7\n"
     ]
    }
   ],
   "execution_count": 22
  },
  {
   "metadata": {},
   "cell_type": "code",
   "outputs": [],
   "execution_count": null,
   "source": "",
   "id": "76e7ea3507f085f2"
  }
 ],
 "metadata": {
  "kernelspec": {
   "display_name": "Python 3",
   "language": "python",
   "name": "python3"
  },
  "language_info": {
   "codemirror_mode": {
    "name": "ipython",
    "version": 2
   },
   "file_extension": ".py",
   "mimetype": "text/x-python",
   "name": "python",
   "nbconvert_exporter": "python",
   "pygments_lexer": "ipython2",
   "version": "2.7.6"
  }
 },
 "nbformat": 4,
 "nbformat_minor": 5
}
